{
 "cells": [
  {
   "cell_type": "markdown",
   "id": "3c584f24",
   "metadata": {},
   "source": [
    "# Generators"
   ]
  },
  {
   "cell_type": "markdown",
   "id": "6383e6fe",
   "metadata": {},
   "source": [
    "Understanding the inner mechanisms of iteration\n",
    "Iteration is a process implying iterables (implementing the \\_\\_iter\\_\\_() method) and iterators (implementing the \\_\\_next\\_\\_() method). Iterables are any objects you can get an iterator from. Iterators are objects that let you iterate on iterables.\n",
    "\n",
    "There is more about it in this article about how for loops work."
   ]
  },
  {
   "cell_type": "code",
   "execution_count": 1,
   "id": "1ce1df31",
   "metadata": {},
   "outputs": [],
   "source": [
    "# A simple generator function\n",
    "def my_gen():\n",
    "    n = 1\n",
    "    print('This is printed first')\n",
    "    # Generator function contains yield statements\n",
    "    yield n\n",
    "\n",
    "    n += 1\n",
    "    print('This is printed second')\n",
    "    yield n\n",
    "\n",
    "    n += 1\n",
    "    print('This is printed at last')\n",
    "    yield n"
   ]
  },
  {
   "cell_type": "code",
   "execution_count": 2,
   "id": "e249e2e3",
   "metadata": {},
   "outputs": [],
   "source": [
    "# It returns an object but does not start execution immediately.\n",
    "a = my_gen()"
   ]
  },
  {
   "cell_type": "code",
   "execution_count": 3,
   "id": "1a08b306",
   "metadata": {},
   "outputs": [
    {
     "name": "stdout",
     "output_type": "stream",
     "text": [
      "This is printed first\n"
     ]
    },
    {
     "data": {
      "text/plain": [
       "1"
      ]
     },
     "execution_count": 3,
     "metadata": {},
     "output_type": "execute_result"
    }
   ],
   "source": [
    "# We can iterate through the items using next().\n",
    "next(a)"
   ]
  },
  {
   "cell_type": "code",
   "execution_count": 4,
   "id": "68255d6f",
   "metadata": {},
   "outputs": [
    {
     "name": "stdout",
     "output_type": "stream",
     "text": [
      "This is printed second\n"
     ]
    },
    {
     "data": {
      "text/plain": [
       "2"
      ]
     },
     "execution_count": 4,
     "metadata": {},
     "output_type": "execute_result"
    }
   ],
   "source": [
    "next(a)"
   ]
  },
  {
   "cell_type": "code",
   "execution_count": 5,
   "id": "f7e28857",
   "metadata": {},
   "outputs": [
    {
     "name": "stdout",
     "output_type": "stream",
     "text": [
      "This is printed at last\n"
     ]
    },
    {
     "data": {
      "text/plain": [
       "3"
      ]
     },
     "execution_count": 5,
     "metadata": {},
     "output_type": "execute_result"
    }
   ],
   "source": [
    "next(a)"
   ]
  },
  {
   "cell_type": "code",
   "execution_count": 6,
   "id": "b41f14a6",
   "metadata": {},
   "outputs": [
    {
     "ename": "StopIteration",
     "evalue": "",
     "output_type": "error",
     "traceback": [
      "\u001b[0;31m---------------------------------------------------------------------------\u001b[0m",
      "\u001b[0;31mStopIteration\u001b[0m                             Traceback (most recent call last)",
      "\u001b[0;32m/tmp/ipykernel_346/1242322984.py\u001b[0m in \u001b[0;36m<module>\u001b[0;34m\u001b[0m\n\u001b[0;32m----> 1\u001b[0;31m \u001b[0mnext\u001b[0m\u001b[0;34m(\u001b[0m\u001b[0ma\u001b[0m\u001b[0;34m)\u001b[0m\u001b[0;34m\u001b[0m\u001b[0;34m\u001b[0m\u001b[0m\n\u001b[0m",
      "\u001b[0;31mStopIteration\u001b[0m: "
     ]
    }
   ],
   "source": [
    "next(a)"
   ]
  },
  {
   "cell_type": "code",
   "execution_count": 7,
   "id": "d8be9374",
   "metadata": {},
   "outputs": [],
   "source": [
    "# A simple generator function\n",
    "def my_gen():\n",
    "    n = 1\n",
    "    print('This is printed first')\n",
    "    # Generator function contains yield statements\n",
    "    yield n\n",
    "\n",
    "    n += 1\n",
    "    print('This is printed second')\n",
    "    yield n\n",
    "\n",
    "    n += 1\n",
    "    print('This is printed at last')\n",
    "    yield n"
   ]
  },
  {
   "cell_type": "code",
   "execution_count": 8,
   "id": "2ef6d567",
   "metadata": {},
   "outputs": [
    {
     "name": "stdout",
     "output_type": "stream",
     "text": [
      "This is printed first\n",
      "1\n",
      "This is printed second\n",
      "2\n",
      "This is printed at last\n",
      "3\n"
     ]
    }
   ],
   "source": [
    "# Using for loop\n",
    "for item in my_gen():\n",
    "    print(item)"
   ]
  },
  {
   "cell_type": "markdown",
   "id": "b9cf13d3",
   "metadata": {},
   "source": [
    "# Python Generator Expression"
   ]
  },
  {
   "cell_type": "code",
   "execution_count": 9,
   "id": "a5eba318",
   "metadata": {},
   "outputs": [],
   "source": [
    "# Initialize the list\n",
    "my_list = [1, 3, 6, 10]\n",
    "\n",
    "# square each term using list comprehension\n",
    "list_ = [x**2 for x in my_list]\n",
    "\n",
    "# same thing can be done using a generator expression\n",
    "# generator expressions are surrounded by parenthesis ()\n",
    "generator = (x**2 for x in my_list)"
   ]
  },
  {
   "cell_type": "code",
   "execution_count": 10,
   "id": "925f69d8",
   "metadata": {},
   "outputs": [
    {
     "name": "stdout",
     "output_type": "stream",
     "text": [
      "[1, 9, 36, 100]\n"
     ]
    }
   ],
   "source": [
    "print(list_)"
   ]
  },
  {
   "cell_type": "code",
   "execution_count": 11,
   "id": "003d1e1b",
   "metadata": {},
   "outputs": [
    {
     "name": "stdout",
     "output_type": "stream",
     "text": [
      "<generator object <genexpr> at 0x7f8d443df660>\n"
     ]
    }
   ],
   "source": [
    "print(generator)"
   ]
  },
  {
   "cell_type": "code",
   "execution_count": 12,
   "id": "2f007a18",
   "metadata": {},
   "outputs": [],
   "source": [
    "# Initialize the list\n",
    "my_list = [1, 3, 6, 10]"
   ]
  },
  {
   "cell_type": "code",
   "execution_count": 13,
   "id": "3829ed52",
   "metadata": {},
   "outputs": [
    {
     "name": "stdout",
     "output_type": "stream",
     "text": [
      "1\n",
      "9\n",
      "36\n",
      "100\n"
     ]
    },
    {
     "ename": "StopIteration",
     "evalue": "",
     "output_type": "error",
     "traceback": [
      "\u001b[0;31m---------------------------------------------------------------------------\u001b[0m",
      "\u001b[0;31mStopIteration\u001b[0m                             Traceback (most recent call last)",
      "\u001b[0;32m/tmp/ipykernel_346/1148020601.py\u001b[0m in \u001b[0;36m<module>\u001b[0;34m\u001b[0m\n\u001b[1;32m      8\u001b[0m \u001b[0mprint\u001b[0m\u001b[0;34m(\u001b[0m\u001b[0mnext\u001b[0m\u001b[0;34m(\u001b[0m\u001b[0ma\u001b[0m\u001b[0;34m)\u001b[0m\u001b[0;34m)\u001b[0m\u001b[0;34m\u001b[0m\u001b[0;34m\u001b[0m\u001b[0m\n\u001b[1;32m      9\u001b[0m \u001b[0;34m\u001b[0m\u001b[0m\n\u001b[0;32m---> 10\u001b[0;31m \u001b[0mnext\u001b[0m\u001b[0;34m(\u001b[0m\u001b[0ma\u001b[0m\u001b[0;34m)\u001b[0m\u001b[0;34m\u001b[0m\u001b[0;34m\u001b[0m\u001b[0m\n\u001b[0m",
      "\u001b[0;31mStopIteration\u001b[0m: "
     ]
    }
   ],
   "source": [
    "a = (x**2 for x in my_list)\n",
    "print(next(a))\n",
    "\n",
    "print(next(a))\n",
    "\n",
    "print(next(a))\n",
    "\n",
    "print(next(a))\n",
    "\n",
    "next(a)"
   ]
  },
  {
   "cell_type": "code",
   "execution_count": 14,
   "id": "d44ea811",
   "metadata": {},
   "outputs": [
    {
     "data": {
      "text/plain": [
       "146"
      ]
     },
     "execution_count": 14,
     "metadata": {},
     "output_type": "execute_result"
    }
   ],
   "source": [
    "sum(x**2 for x in my_list)"
   ]
  },
  {
   "cell_type": "code",
   "execution_count": 15,
   "id": "006a0ba4",
   "metadata": {},
   "outputs": [
    {
     "data": {
      "text/plain": [
       "100"
      ]
     },
     "execution_count": 15,
     "metadata": {},
     "output_type": "execute_result"
    }
   ],
   "source": [
    "max(x**2 for x in my_list)"
   ]
  },
  {
   "cell_type": "markdown",
   "id": "a5c6e7eb",
   "metadata": {},
   "source": [
    "# Use of Python Generators"
   ]
  },
  {
   "cell_type": "markdown",
   "id": "92adee8b",
   "metadata": {},
   "source": [
    "## 1. Easy to Implement"
   ]
  },
  {
   "cell_type": "code",
   "execution_count": 16,
   "id": "e76732ea",
   "metadata": {},
   "outputs": [],
   "source": [
    "class PowTwo:\n",
    "    def __init__(self, max=0):\n",
    "        self.n = 0\n",
    "        self.max = max\n",
    "\n",
    "    def __iter__(self):\n",
    "        return self\n",
    "\n",
    "    def __next__(self):\n",
    "        if self.n > self.max:\n",
    "            raise StopIteration\n",
    "\n",
    "        result = 2 ** self.n\n",
    "        self.n += 1\n",
    "        return result"
   ]
  },
  {
   "cell_type": "markdown",
   "id": "0a1a5555",
   "metadata": {},
   "source": [
    "the same:"
   ]
  },
  {
   "cell_type": "code",
   "execution_count": 17,
   "id": "510c6284",
   "metadata": {},
   "outputs": [],
   "source": [
    "def PowTwoGen(max=0):\n",
    "    n = 0\n",
    "    while n < max:\n",
    "        yield 2 ** n\n",
    "        n += 1"
   ]
  },
  {
   "cell_type": "code",
   "execution_count": 18,
   "id": "9590f96b",
   "metadata": {},
   "outputs": [],
   "source": [
    "a = PowTwoGen(20)"
   ]
  },
  {
   "cell_type": "code",
   "execution_count": 19,
   "id": "bd50d5a2",
   "metadata": {},
   "outputs": [
    {
     "name": "stdout",
     "output_type": "stream",
     "text": [
      "1\n",
      "2\n",
      "4\n",
      "8\n",
      "16\n",
      "32\n",
      "64\n",
      "128\n",
      "256\n",
      "512\n",
      "1024\n",
      "2048\n",
      "4096\n",
      "8192\n",
      "16384\n",
      "32768\n",
      "65536\n",
      "131072\n",
      "262144\n",
      "524288\n"
     ]
    }
   ],
   "source": [
    "for i in range(20):\n",
    "    print(next(a))"
   ]
  },
  {
   "cell_type": "markdown",
   "id": "a0119fa9",
   "metadata": {},
   "source": [
    "## 3. Represent Infinite Stream"
   ]
  },
  {
   "cell_type": "code",
   "execution_count": 20,
   "id": "86765e09",
   "metadata": {},
   "outputs": [],
   "source": [
    "def all_even():\n",
    "    n = 0\n",
    "    while True:\n",
    "        yield n\n",
    "        n += 2"
   ]
  },
  {
   "cell_type": "markdown",
   "id": "bc8c567a",
   "metadata": {},
   "source": [
    "## 4. Pipelining Generators"
   ]
  },
  {
   "cell_type": "code",
   "execution_count": 21,
   "id": "b8ead88b",
   "metadata": {},
   "outputs": [
    {
     "name": "stdout",
     "output_type": "stream",
     "text": [
      "4895\n"
     ]
    }
   ],
   "source": [
    "def fibonacci_numbers(nums):\n",
    "    x, y = 0, 1\n",
    "    for _ in range(nums):\n",
    "        x, y = y, x+y\n",
    "        yield x\n",
    "\n",
    "def square(nums):\n",
    "    for num in nums:\n",
    "        yield num**2\n",
    "\n",
    "print(sum(square(fibonacci_numbers(10))))"
   ]
  },
  {
   "cell_type": "markdown",
   "id": "4c937131",
   "metadata": {},
   "source": [
    "# Iterables"
   ]
  },
  {
   "cell_type": "code",
   "execution_count": 22,
   "id": "4aeac46c",
   "metadata": {},
   "outputs": [],
   "source": [
    "mylist = [1, 2, 3]"
   ]
  },
  {
   "cell_type": "code",
   "execution_count": 23,
   "id": "ca931165",
   "metadata": {},
   "outputs": [
    {
     "name": "stdout",
     "output_type": "stream",
     "text": [
      "1\n",
      "2\n",
      "3\n"
     ]
    }
   ],
   "source": [
    "for i in mylist:\n",
    "    print(i)"
   ]
  },
  {
   "cell_type": "code",
   "execution_count": 24,
   "id": "af76e4b7",
   "metadata": {},
   "outputs": [],
   "source": [
    "mylist = [x*x for x in range(3)]"
   ]
  },
  {
   "cell_type": "code",
   "execution_count": 25,
   "id": "37d5ff16",
   "metadata": {},
   "outputs": [
    {
     "name": "stdout",
     "output_type": "stream",
     "text": [
      "0\n",
      "1\n",
      "4\n"
     ]
    }
   ],
   "source": [
    "for i in mylist:\n",
    "    print(i)"
   ]
  },
  {
   "cell_type": "markdown",
   "id": "935fd73b",
   "metadata": {},
   "source": [
    "## Iterables . generator"
   ]
  },
  {
   "cell_type": "code",
   "execution_count": 26,
   "id": "d96b4023",
   "metadata": {},
   "outputs": [],
   "source": [
    "def create_generator():\n",
    "    mylist = range(3)\n",
    "    for i in mylist:\n",
    "        yield i*i"
   ]
  },
  {
   "cell_type": "code",
   "execution_count": 27,
   "id": "106bc98d",
   "metadata": {},
   "outputs": [],
   "source": [
    "mygenerator = create_generator() # create a generator"
   ]
  },
  {
   "cell_type": "code",
   "execution_count": 28,
   "id": "f8bc6437",
   "metadata": {},
   "outputs": [
    {
     "name": "stdout",
     "output_type": "stream",
     "text": [
      "<generator object create_generator at 0x7f8d443f0430>\n"
     ]
    }
   ],
   "source": [
    "print(mygenerator) # mygenerator is an object!"
   ]
  },
  {
   "cell_type": "code",
   "execution_count": 29,
   "id": "1a3c9f34",
   "metadata": {},
   "outputs": [
    {
     "name": "stdout",
     "output_type": "stream",
     "text": [
      "0\n",
      "1\n",
      "4\n"
     ]
    }
   ],
   "source": [
    "for i in mygenerator:\n",
    "    print(i)"
   ]
  },
  {
   "cell_type": "code",
   "execution_count": null,
   "id": "fdb957b2",
   "metadata": {},
   "outputs": [],
   "source": []
  }
 ],
 "metadata": {
  "kernelspec": {
   "display_name": "Python 3 (ipykernel)",
   "language": "python",
   "name": "python3"
  },
  "language_info": {
   "codemirror_mode": {
    "name": "ipython",
    "version": 3
   },
   "file_extension": ".py",
   "mimetype": "text/x-python",
   "name": "python",
   "nbconvert_exporter": "python",
   "pygments_lexer": "ipython3",
   "version": "3.9.7"
  }
 },
 "nbformat": 4,
 "nbformat_minor": 5
}
