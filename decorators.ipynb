{
 "cells": [
  {
   "cell_type": "markdown",
   "id": "bd97e96b",
   "metadata": {},
   "source": [
    "if we have a function"
   ]
  },
  {
   "cell_type": "code",
   "execution_count": 1,
   "id": "5c2d81ef",
   "metadata": {},
   "outputs": [],
   "source": [
    "def inc(x):\n",
    "    x += 1\n",
    "    return x\n",
    "\n",
    "def res(x):\n",
    "    x -= 1\n",
    "    return x"
   ]
  },
  {
   "cell_type": "markdown",
   "id": "0bea3645",
   "metadata": {},
   "source": [
    "and now we have other function which will use this function as parameter"
   ]
  },
  {
   "cell_type": "code",
   "execution_count": 2,
   "id": "22df18f4",
   "metadata": {},
   "outputs": [],
   "source": [
    "def operate(func, x):\n",
    "    result = func(x)\n",
    "    return result"
   ]
  },
  {
   "cell_type": "markdown",
   "id": "a90999df",
   "metadata": {},
   "source": [
    "Let's return operate "
   ]
  },
  {
   "cell_type": "code",
   "execution_count": 3,
   "id": "f499740c",
   "metadata": {},
   "outputs": [
    {
     "name": "stdout",
     "output_type": "stream",
     "text": [
      "4\n"
     ]
    }
   ],
   "source": [
    "print(operate(inc, 3))"
   ]
  },
  {
   "cell_type": "code",
   "execution_count": 4,
   "id": "caad27e5",
   "metadata": {},
   "outputs": [
    {
     "name": "stdout",
     "output_type": "stream",
     "text": [
      "2\n"
     ]
    }
   ],
   "source": [
    "print(operate(res, 3))"
   ]
  },
  {
   "cell_type": "markdown",
   "id": "07f54dd0",
   "metadata": {},
   "source": [
    "# Define function inside of function"
   ]
  },
  {
   "cell_type": "code",
   "execution_count": 5,
   "id": "6cbf02dd",
   "metadata": {},
   "outputs": [],
   "source": [
    "def print_msg(message):\n",
    "    greeting = \"Hello, \"\n",
    "    \n",
    "    def printer():\n",
    "        print(greeting, message)\n",
    "        \n",
    "    printer()"
   ]
  },
  {
   "cell_type": "code",
   "execution_count": 6,
   "id": "2c3f9874",
   "metadata": {},
   "outputs": [
    {
     "name": "stdout",
     "output_type": "stream",
     "text": [
      "Hello,  Python is awsome\n"
     ]
    }
   ],
   "source": [
    "print_msg(\"Python is awsome\")"
   ]
  },
  {
   "cell_type": "markdown",
   "id": "122bf3cc",
   "metadata": {},
   "source": [
    "The same example but returning function. **print** return a function, while **print()** execute this function"
   ]
  },
  {
   "cell_type": "code",
   "execution_count": 7,
   "id": "380d409c",
   "metadata": {},
   "outputs": [],
   "source": [
    "def print_msg(message):\n",
    "    greeting = \"Hello, \"\n",
    "    \n",
    "    def printer():\n",
    "        print(greeting, message)\n",
    "        \n",
    "    return printer"
   ]
  },
  {
   "cell_type": "code",
   "execution_count": 8,
   "id": "c641a206",
   "metadata": {},
   "outputs": [],
   "source": [
    "func = print_msg(\"Python is awsome\")"
   ]
  },
  {
   "cell_type": "code",
   "execution_count": 9,
   "id": "75588f58",
   "metadata": {},
   "outputs": [
    {
     "name": "stdout",
     "output_type": "stream",
     "text": [
      "Hello,  Python is awsome\n"
     ]
    }
   ],
   "source": [
    "func()"
   ]
  },
  {
   "cell_type": "markdown",
   "id": "34240782",
   "metadata": {},
   "source": [
    "# Decorators"
   ]
  },
  {
   "cell_type": "code",
   "execution_count": 10,
   "id": "73a69af4",
   "metadata": {},
   "outputs": [],
   "source": [
    "def printer():\n",
    "    print(\"Hello world\")"
   ]
  },
  {
   "cell_type": "code",
   "execution_count": 11,
   "id": "1b66dd51",
   "metadata": {},
   "outputs": [],
   "source": [
    "def display_info(func):\n",
    "    \n",
    "    def inner():\n",
    "        print(\"Executing\", func.__name__, \"function\")\n",
    "        func()\n",
    "        print(\"Finish execution\")\n",
    "        \n",
    "    return inner"
   ]
  },
  {
   "cell_type": "code",
   "execution_count": 12,
   "id": "ddb0e633",
   "metadata": {},
   "outputs": [],
   "source": [
    "decoreted_func = display_info(printer)"
   ]
  },
  {
   "cell_type": "code",
   "execution_count": 13,
   "id": "8a60efe4",
   "metadata": {},
   "outputs": [
    {
     "name": "stdout",
     "output_type": "stream",
     "text": [
      "Executing printer function\n",
      "Hello world\n",
      "Finish execution\n"
     ]
    }
   ],
   "source": [
    "decoreted_func()"
   ]
  },
  {
   "cell_type": "markdown",
   "id": "0a0f8d6d",
   "metadata": {},
   "source": [
    "And there is another form to use this function - @ - decorator"
   ]
  },
  {
   "cell_type": "code",
   "execution_count": 14,
   "id": "5f4a0c80",
   "metadata": {},
   "outputs": [],
   "source": [
    "@display_info\n",
    "def printer():\n",
    "    print(\"Hello world!!\")"
   ]
  },
  {
   "cell_type": "code",
   "execution_count": 15,
   "id": "31dfaed7",
   "metadata": {},
   "outputs": [
    {
     "name": "stdout",
     "output_type": "stream",
     "text": [
      "Executing printer function\n",
      "Hello world!!\n",
      "Finish execution\n"
     ]
    }
   ],
   "source": [
    "printer()"
   ]
  },
  {
   "cell_type": "markdown",
   "id": "6bc86530",
   "metadata": {},
   "source": [
    "so - we can define some function as \n",
    "```\n",
    "def some_func(func):\n",
    "   do_sometning_with_func\n",
    "```\n",
    "\n",
    "and use it on top of other function as decorator with @"
   ]
  },
  {
   "cell_type": "markdown",
   "id": "03d21d20",
   "metadata": {},
   "source": [
    "# Decorators with params"
   ]
  },
  {
   "cell_type": "code",
   "execution_count": 16,
   "id": "439f82bd",
   "metadata": {},
   "outputs": [],
   "source": [
    "def smart_divide(func):\n",
    "    def inner(a, b):\n",
    "        print(\"Dividing \", a, \"by\", b)\n",
    "        if b == 0:\n",
    "            print(\"Cannot divide by 0\")\n",
    "            return\n",
    "        return func(a, b)\n",
    "    return inner"
   ]
  },
  {
   "cell_type": "code",
   "execution_count": 17,
   "id": "a58940df",
   "metadata": {},
   "outputs": [],
   "source": [
    "@smart_divide\n",
    "def divide(a, b):\n",
    "    return a/b"
   ]
  },
  {
   "cell_type": "code",
   "execution_count": 18,
   "id": "b27a247a",
   "metadata": {},
   "outputs": [
    {
     "name": "stdout",
     "output_type": "stream",
     "text": [
      "Dividing  1 by 2\n",
      "0.5\n"
     ]
    }
   ],
   "source": [
    "print(divide(1,2))"
   ]
  },
  {
   "cell_type": "code",
   "execution_count": 19,
   "id": "e0455688",
   "metadata": {},
   "outputs": [
    {
     "name": "stdout",
     "output_type": "stream",
     "text": [
      "Dividing  1 by 0\n",
      "Cannot divide by 0\n",
      "None\n"
     ]
    }
   ],
   "source": [
    "print(divide(1,0))"
   ]
  },
  {
   "cell_type": "markdown",
   "id": "4c53955c",
   "metadata": {},
   "source": [
    "# Chaining decorators"
   ]
  },
  {
   "cell_type": "code",
   "execution_count": 20,
   "id": "5acbc10a",
   "metadata": {},
   "outputs": [],
   "source": [
    "def star(func):\n",
    "    def inner(arg):\n",
    "        print(\"*\" * 30)\n",
    "        func(arg)\n",
    "        print(\"*\" * 30)\n",
    "    return inner"
   ]
  },
  {
   "cell_type": "code",
   "execution_count": 21,
   "id": "bd1167ab",
   "metadata": {},
   "outputs": [],
   "source": [
    "def percent(func):\n",
    "    def inner(arg):\n",
    "        print(\"%\" * 30)\n",
    "        func(arg)\n",
    "        print(\"%\" * 30)\n",
    "    return inner\n",
    "\n"
   ]
  },
  {
   "cell_type": "code",
   "execution_count": 22,
   "id": "450d83a4",
   "metadata": {},
   "outputs": [],
   "source": [
    "def print_msg(msg):\n",
    "    print(msg)"
   ]
  },
  {
   "cell_type": "code",
   "execution_count": 23,
   "id": "3fd22852",
   "metadata": {},
   "outputs": [
    {
     "name": "stdout",
     "output_type": "stream",
     "text": [
      "Hello!!!!\n"
     ]
    }
   ],
   "source": [
    "print_msg(\"Hello!!!!\")"
   ]
  },
  {
   "cell_type": "code",
   "execution_count": 24,
   "id": "0ad7fae9",
   "metadata": {},
   "outputs": [],
   "source": [
    "@star\n",
    "def print_msg(msg):\n",
    "    print(msg)"
   ]
  },
  {
   "cell_type": "code",
   "execution_count": 25,
   "id": "8ac4d1c3",
   "metadata": {},
   "outputs": [
    {
     "name": "stdout",
     "output_type": "stream",
     "text": [
      "******************************\n",
      "Hello!!!!\n",
      "******************************\n"
     ]
    }
   ],
   "source": [
    "print_msg(\"Hello!!!!\")"
   ]
  },
  {
   "cell_type": "code",
   "execution_count": 26,
   "id": "502ca754",
   "metadata": {},
   "outputs": [],
   "source": [
    "@star\n",
    "@percent\n",
    "def print_msg(msg):\n",
    "    print(msg)"
   ]
  },
  {
   "cell_type": "code",
   "execution_count": 27,
   "id": "69d595c4",
   "metadata": {},
   "outputs": [
    {
     "name": "stdout",
     "output_type": "stream",
     "text": [
      "******************************\n",
      "%%%%%%%%%%%%%%%%%%%%%%%%%%%%%%\n",
      "Hello!!!!\n",
      "%%%%%%%%%%%%%%%%%%%%%%%%%%%%%%\n",
      "******************************\n"
     ]
    }
   ],
   "source": [
    "print_msg(\"Hello!!!!\")"
   ]
  },
  {
   "cell_type": "markdown",
   "id": "c0c82971",
   "metadata": {},
   "source": [
    "# other example"
   ]
  },
  {
   "cell_type": "code",
   "execution_count": 28,
   "id": "182c2f3e",
   "metadata": {},
   "outputs": [
    {
     "name": "stdout",
     "output_type": "stream",
     "text": [
      "******************************\n",
      "%%%%%%%%%%%%%%%%%%%%%%%%%%%%%%\n",
      "Hello\n",
      "%%%%%%%%%%%%%%%%%%%%%%%%%%%%%%\n",
      "******************************\n"
     ]
    }
   ],
   "source": [
    "def star(func):\n",
    "    def inner(*args, **kwargs):\n",
    "        print(\"*\" * 30)\n",
    "        func(*args, **kwargs)\n",
    "        print(\"*\" * 30)\n",
    "    return inner\n",
    "\n",
    "\n",
    "def percent(func):\n",
    "    def inner(*args, **kwargs):\n",
    "        print(\"%\" * 30)\n",
    "        func(*args, **kwargs)\n",
    "        print(\"%\" * 30)\n",
    "    return inner\n",
    "\n",
    "\n",
    "@star\n",
    "@percent\n",
    "def printer(msg):\n",
    "    print(msg)\n",
    "\n",
    "\n",
    "printer(\"Hello\")\n"
   ]
  },
  {
   "cell_type": "code",
   "execution_count": null,
   "id": "cc4f49d0",
   "metadata": {},
   "outputs": [],
   "source": []
  }
 ],
 "metadata": {
  "kernelspec": {
   "display_name": "Python 3 (ipykernel)",
   "language": "python",
   "name": "python3"
  },
  "language_info": {
   "codemirror_mode": {
    "name": "ipython",
    "version": 3
   },
   "file_extension": ".py",
   "mimetype": "text/x-python",
   "name": "python",
   "nbconvert_exporter": "python",
   "pygments_lexer": "ipython3",
   "version": "3.9.7"
  }
 },
 "nbformat": 4,
 "nbformat_minor": 5
}
