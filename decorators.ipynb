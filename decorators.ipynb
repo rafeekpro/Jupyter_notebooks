{
 "cells": [
  {
   "cell_type": "markdown",
   "id": "156ce0d4",
   "metadata": {},
   "source": [
    "if we have a function"
   ]
  },
  {
   "cell_type": "code",
   "execution_count": 1,
   "id": "0cd47422",
   "metadata": {},
   "outputs": [],
   "source": [
    "def inc(x):\n",
    "    x += 1\n",
    "    return x\n",
    "\n",
    "def res(x):\n",
    "    x -= 1\n",
    "    return x"
   ]
  },
  {
   "cell_type": "markdown",
   "id": "a13f41ff",
   "metadata": {},
   "source": [
    "and now we have other function which will use this function as parameter"
   ]
  },
  {
   "cell_type": "code",
   "execution_count": 2,
   "id": "e3e638ac",
   "metadata": {},
   "outputs": [],
   "source": [
    "def operate(func, x):\n",
    "    result = func(x)\n",
    "    return result"
   ]
  },
  {
   "cell_type": "markdown",
   "id": "ddc9f8ff",
   "metadata": {},
   "source": [
    "Let's return operate "
   ]
  },
  {
   "cell_type": "code",
   "execution_count": 3,
   "id": "c3b70a4b",
   "metadata": {},
   "outputs": [
    {
     "name": "stdout",
     "output_type": "stream",
     "text": [
      "4\n"
     ]
    }
   ],
   "source": [
    "print(operate(inc, 3))"
   ]
  },
  {
   "cell_type": "code",
   "execution_count": 4,
   "id": "dd53fe11",
   "metadata": {},
   "outputs": [
    {
     "name": "stdout",
     "output_type": "stream",
     "text": [
      "2\n"
     ]
    }
   ],
   "source": [
    "print(operate(res, 3))"
   ]
  },
  {
   "cell_type": "markdown",
   "id": "64c7f3df",
   "metadata": {},
   "source": [
    "# Define function inside of function"
   ]
  },
  {
   "cell_type": "code",
   "execution_count": 5,
   "id": "e2440520",
   "metadata": {},
   "outputs": [],
   "source": [
    "def print_msg(message):\n",
    "    greeting = \"Hello, \"\n",
    "    \n",
    "    def printer():\n",
    "        print(greeting, message)\n",
    "        \n",
    "    printer()"
   ]
  },
  {
   "cell_type": "code",
   "execution_count": 6,
   "id": "b8a51597",
   "metadata": {},
   "outputs": [
    {
     "name": "stdout",
     "output_type": "stream",
     "text": [
      "Hello,  Python is awsome\n"
     ]
    }
   ],
   "source": [
    "print_msg(\"Python is awsome\")"
   ]
  },
  {
   "cell_type": "markdown",
   "id": "18d83e30",
   "metadata": {},
   "source": [
    "The same example but returning function. **print** return a function, while **print()** execute this function"
   ]
  },
  {
   "cell_type": "code",
   "execution_count": 7,
   "id": "13cda98e",
   "metadata": {},
   "outputs": [],
   "source": [
    "def print_msg(message):\n",
    "    greeting = \"Hello, \"\n",
    "    \n",
    "    def printer():\n",
    "        print(greeting, message)\n",
    "        \n",
    "    return printer"
   ]
  },
  {
   "cell_type": "code",
   "execution_count": 8,
   "id": "1a640422",
   "metadata": {},
   "outputs": [],
   "source": [
    "func = print_msg(\"Python is awsome\")"
   ]
  },
  {
   "cell_type": "code",
   "execution_count": 9,
   "id": "7a90c54b",
   "metadata": {},
   "outputs": [
    {
     "name": "stdout",
     "output_type": "stream",
     "text": [
      "Hello,  Python is awsome\n"
     ]
    }
   ],
   "source": [
    "func()"
   ]
  },
  {
   "cell_type": "markdown",
   "id": "55ad5fa9",
   "metadata": {},
   "source": [
    "# Decorators"
   ]
  },
  {
   "cell_type": "code",
   "execution_count": 10,
   "id": "b480164d",
   "metadata": {},
   "outputs": [],
   "source": [
    "def printer():\n",
    "    print(\"Hello world\")"
   ]
  },
  {
   "cell_type": "code",
   "execution_count": 11,
   "id": "253ce1ba",
   "metadata": {},
   "outputs": [],
   "source": [
    "def display_info(func):\n",
    "    \n",
    "    def inner():\n",
    "        print(\"Executing\", func.__name__, \"function\")\n",
    "        func()\n",
    "        print(\"Finish execution\")\n",
    "        \n",
    "    return inner"
   ]
  },
  {
   "cell_type": "code",
   "execution_count": 12,
   "id": "fc87972b",
   "metadata": {},
   "outputs": [],
   "source": [
    "decoreted_func = display_info(printer)"
   ]
  },
  {
   "cell_type": "code",
   "execution_count": 13,
   "id": "55cb3b4e",
   "metadata": {},
   "outputs": [
    {
     "name": "stdout",
     "output_type": "stream",
     "text": [
      "Executing printer function\n",
      "Hello world\n",
      "Finish execution\n"
     ]
    }
   ],
   "source": [
    "decoreted_func()"
   ]
  },
  {
   "cell_type": "markdown",
   "id": "beae5b2c",
   "metadata": {},
   "source": [
    "And there is another form to use this function - @ - decorator"
   ]
  },
  {
   "cell_type": "code",
   "execution_count": 14,
   "id": "81b3f9e8",
   "metadata": {},
   "outputs": [],
   "source": [
    "@display_info\n",
    "def printer():\n",
    "    print(\"Hello world!!\")"
   ]
  },
  {
   "cell_type": "code",
   "execution_count": 15,
   "id": "afa9ec5d",
   "metadata": {},
   "outputs": [
    {
     "name": "stdout",
     "output_type": "stream",
     "text": [
      "Executing printer function\n",
      "Hello world!!\n",
      "Finish execution\n"
     ]
    }
   ],
   "source": [
    "printer()"
   ]
  },
  {
   "cell_type": "markdown",
   "id": "7b41e0ae",
   "metadata": {},
   "source": [
    "so - we can define some function as \n",
    "```\n",
    "def some_func(func):\n",
    "   do_sometning_with_func\n",
    "```\n",
    "\n",
    "and use it on top of other function as decorator with @"
   ]
  },
  {
   "cell_type": "markdown",
   "id": "f5b03dba",
   "metadata": {},
   "source": [
    "# Decorators with params"
   ]
  },
  {
   "cell_type": "code",
   "execution_count": 16,
   "id": "74deabd0",
   "metadata": {},
   "outputs": [],
   "source": [
    "def smart_divide(func):\n",
    "    def inner(a, b):\n",
    "        print(\"Dividing \", a, \"by\", b)\n",
    "        if b == 0:\n",
    "            print(\"Cannot divide by 0\")\n",
    "            return\n",
    "        return func(a, b)\n",
    "    return inner"
   ]
  },
  {
   "cell_type": "code",
   "execution_count": 17,
   "id": "e9bd9240",
   "metadata": {},
   "outputs": [],
   "source": [
    "@smart_divide\n",
    "def divide(a, b):\n",
    "    return a/b"
   ]
  },
  {
   "cell_type": "code",
   "execution_count": 18,
   "id": "f7a11915",
   "metadata": {},
   "outputs": [
    {
     "name": "stdout",
     "output_type": "stream",
     "text": [
      "Dividing  1 by 2\n",
      "0.5\n"
     ]
    }
   ],
   "source": [
    "print(divide(1,2))"
   ]
  },
  {
   "cell_type": "code",
   "execution_count": 19,
   "id": "a6b4f30e",
   "metadata": {},
   "outputs": [
    {
     "name": "stdout",
     "output_type": "stream",
     "text": [
      "Dividing  1 by 0\n",
      "Cannot divide by 0\n",
      "None\n"
     ]
    }
   ],
   "source": [
    "print(divide(1,0))"
   ]
  },
  {
   "cell_type": "markdown",
   "id": "452950e9",
   "metadata": {},
   "source": [
    "# Chaining decorators"
   ]
  },
  {
   "cell_type": "code",
   "execution_count": 20,
   "id": "1a8b88b2",
   "metadata": {},
   "outputs": [],
   "source": [
    "def star(func):\n",
    "    def inner(arg):\n",
    "        print(\"*\" * 30)\n",
    "        print(arg)\n",
    "        print(\"*\" * 30)\n",
    "    return inner"
   ]
  },
  {
   "cell_type": "code",
   "execution_count": 21,
   "id": "9c74b590",
   "metadata": {},
   "outputs": [],
   "source": [
    "def percent(func):\n",
    "    def inner(arg):\n",
    "        print(\"%\" * 30)\n",
    "        print(arg)\n",
    "        print(\"%\" * 30)\n",
    "    return inner\n",
    "\n",
    "\n",
    "def percent(func):\n",
    "    def inner(*args, **kwargs):\n",
    "        print(\"%\" * 30)\n",
    "        func(*args, **kwargs)\n",
    "        print(\"%\" * 30)\n",
    "    return inner"
   ]
  },
  {
   "cell_type": "code",
   "execution_count": 22,
   "id": "986ab03b",
   "metadata": {},
   "outputs": [],
   "source": [
    "def print_msg(msg):\n",
    "    print(msg)"
   ]
  },
  {
   "cell_type": "code",
   "execution_count": 23,
   "id": "abe48d5f",
   "metadata": {},
   "outputs": [
    {
     "name": "stdout",
     "output_type": "stream",
     "text": [
      "Hello!!!!\n"
     ]
    }
   ],
   "source": [
    "print_msg(\"Hello!!!!\")"
   ]
  },
  {
   "cell_type": "code",
   "execution_count": 24,
   "id": "048c2da5",
   "metadata": {},
   "outputs": [],
   "source": [
    "@star\n",
    "def print_msg(msg):\n",
    "    print(msg)"
   ]
  },
  {
   "cell_type": "code",
   "execution_count": 25,
   "id": "fa1d42ac",
   "metadata": {},
   "outputs": [
    {
     "name": "stdout",
     "output_type": "stream",
     "text": [
      "******************************\n",
      "Hello!!!!\n",
      "******************************\n"
     ]
    }
   ],
   "source": [
    "print_msg(\"Hello!!!!\")"
   ]
  },
  {
   "cell_type": "code",
   "execution_count": 26,
   "id": "7e0c9e6d",
   "metadata": {},
   "outputs": [],
   "source": [
    "@star\n",
    "@percent\n",
    "def print_msg1(msg):\n",
    "    print(msg)"
   ]
  },
  {
   "cell_type": "code",
   "execution_count": 27,
   "id": "30ba942f",
   "metadata": {},
   "outputs": [
    {
     "name": "stdout",
     "output_type": "stream",
     "text": [
      "******************************\n",
      "Hello!!!!\n",
      "******************************\n"
     ]
    }
   ],
   "source": [
    "print_msg1(\"Hello!!!!\")"
   ]
  },
  {
   "cell_type": "markdown",
   "id": "01507892",
   "metadata": {},
   "source": [
    "# other example"
   ]
  },
  {
   "cell_type": "code",
   "execution_count": 28,
   "id": "391770fa",
   "metadata": {},
   "outputs": [
    {
     "name": "stdout",
     "output_type": "stream",
     "text": [
      "******************************\n",
      "%%%%%%%%%%%%%%%%%%%%%%%%%%%%%%\n",
      "Hello\n",
      "%%%%%%%%%%%%%%%%%%%%%%%%%%%%%%\n",
      "******************************\n"
     ]
    }
   ],
   "source": [
    "def star(func):\n",
    "    def inner(*args, **kwargs):\n",
    "        print(\"*\" * 30)\n",
    "        func(*args, **kwargs)\n",
    "        print(\"*\" * 30)\n",
    "    return inner\n",
    "\n",
    "\n",
    "def percent(func):\n",
    "    def inner(*args, **kwargs):\n",
    "        print(\"%\" * 30)\n",
    "        func(*args, **kwargs)\n",
    "        print(\"%\" * 30)\n",
    "    return inner\n",
    "\n",
    "\n",
    "@star\n",
    "@percent\n",
    "def printer(msg):\n",
    "    print(msg)\n",
    "\n",
    "\n",
    "printer(\"Hello\")\n"
   ]
  },
  {
   "cell_type": "code",
   "execution_count": null,
   "id": "84cf2ed1",
   "metadata": {},
   "outputs": [],
   "source": []
  }
 ],
 "metadata": {
  "kernelspec": {
   "display_name": "Python 3 (ipykernel)",
   "language": "python",
   "name": "python3"
  },
  "language_info": {
   "codemirror_mode": {
    "name": "ipython",
    "version": 3
   },
   "file_extension": ".py",
   "mimetype": "text/x-python",
   "name": "python",
   "nbconvert_exporter": "python",
   "pygments_lexer": "ipython3",
   "version": "3.9.7"
  }
 },
 "nbformat": 4,
 "nbformat_minor": 5
}
